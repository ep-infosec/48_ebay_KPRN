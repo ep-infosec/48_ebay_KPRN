{
 "cells": [
  {
   "cell_type": "code",
   "execution_count": 1,
   "metadata": {},
   "outputs": [],
   "source": [
    "import codecs"
   ]
  },
  {
   "cell_type": "code",
   "execution_count": 2,
   "metadata": {},
   "outputs": [],
   "source": [
    "pos_file_writer = codecs.open(\"pos_res.txt\", mode=\"w\")\n",
    "neg_file_writer = codecs.open(\"neg_res.txt\", mode=\"w\")\n",
    "file_reader = codecs.open(\"test_combine_sorted.txt\", mode=\"r\")\n",
    "line = file_reader.readline()\n",
    "while line:\n",
    "    line_list = line.strip().split(\"\\t\")\n",
    "    if line_list[-2] == \"1\":\n",
    "        pos_file_writer.write(line)\n",
    "    else:\n",
    "        neg_file_writer.write(line)\n",
    "    line = file_reader.readline()\n",
    "pos_file_writer.close()\n",
    "neg_file_writer.close()\n",
    "file_reader.close()\n"
   ]
  },
  {
   "cell_type": "code",
   "execution_count": null,
   "metadata": {},
   "outputs": [],
   "source": []
  }
 ],
 "metadata": {
  "kernelspec": {
   "display_name": "Python 2",
   "language": "python",
   "name": "python2"
  },
  "language_info": {
   "codemirror_mode": {
    "name": "ipython",
    "version": 2
   },
   "file_extension": ".py",
   "mimetype": "text/x-python",
   "name": "python",
   "nbconvert_exporter": "python",
   "pygments_lexer": "ipython2",
   "version": "2.7.15"
  }
 },
 "nbformat": 4,
 "nbformat_minor": 2
}
